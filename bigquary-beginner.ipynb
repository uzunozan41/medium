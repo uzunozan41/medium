{
 "cells": [
  {
   "cell_type": "code",
   "execution_count": 1,
   "id": "98a965b2",
   "metadata": {},
   "outputs": [],
   "source": [
    "from google.cloud import bigquery\n",
    "import pandas as pd"
   ]
  },
  {
   "cell_type": "code",
   "execution_count": 2,
   "id": "831adfe3",
   "metadata": {},
   "outputs": [],
   "source": [
    "client=bigquery.Client(project=\"voltaic-syntax-322717\")\n",
    "dataset=client.dataset(\"test\")"
   ]
  },
  {
   "cell_type": "markdown",
   "id": "a453d9ad",
   "metadata": {},
   "source": [
    "# Read"
   ]
  },
  {
   "cell_type": "code",
   "execution_count": 3,
   "id": "6fe41cbd",
   "metadata": {},
   "outputs": [
    {
     "data": {
      "text/plain": [
       "google.cloud.bigquery.job.query.QueryJob"
      ]
     },
     "execution_count": 3,
     "metadata": {},
     "output_type": "execute_result"
    }
   ],
   "source": [
    "sql1=\"SELECT * FROM `voltaic-syntax-322717.test.movie` limit 5\"\n",
    "\n",
    "query1=client.query(sql1)\n",
    "type(query1)"
   ]
  },
  {
   "cell_type": "code",
   "execution_count": 4,
   "id": "8f155e9b",
   "metadata": {},
   "outputs": [
    {
     "name": "stdout",
     "output_type": "stream",
     "text": [
      "<class 'google.cloud.bigquery.table.RowIterator'>\n",
      "\n",
      "\n",
      "Row((1127, 'The Kid', 1921), {'id': 0, 'title': 1, 'year': 2})\n",
      "Row((1118, 'Metropolis', 1927), {'id': 0, 'title': 1, 'year': 2})\n",
      "Row((1051, 'City Lights', 1931), {'id': 0, 'title': 1, 'year': 2})\n",
      "Row((1094, 'M - Eine Stadt sucht einen Mörder', 1931), {'id': 0, 'title': 1, 'year': 2})\n",
      "Row((1045, 'Modern Times', 1936), {'id': 0, 'title': 1, 'year': 2})\n",
      "\n",
      "\n",
      "<class 'google.cloud.bigquery.table.Row'>\n"
     ]
    }
   ],
   "source": [
    "table1=query1.result()\n",
    "print(type(table1))\n",
    "print(\"\\n\")\n",
    "\n",
    "for row in table1:\n",
    "    print(row)\n",
    "\n",
    "print(\"\\n\")\n",
    "print(type(row))"
   ]
  },
  {
   "cell_type": "code",
   "execution_count": 5,
   "id": "58932c04",
   "metadata": {},
   "outputs": [
    {
     "name": "stdout",
     "output_type": "stream",
     "text": [
      "year title\n",
      "1921 The Kid\n",
      "1927 Metropolis\n",
      "1931 City Lights\n",
      "1931 M - Eine Stadt sucht einen Mörder\n",
      "1936 Modern Times\n"
     ]
    }
   ],
   "source": [
    "table1=query1.result()\n",
    "\n",
    "print(\"year title\")\n",
    "for row in table1:\n",
    "    print(str(row.year)+\" \"+row.title)"
   ]
  },
  {
   "cell_type": "code",
   "execution_count": 6,
   "id": "cae629cd",
   "metadata": {},
   "outputs": [],
   "source": [
    "sql2=\"SELECT * FROM `voltaic-syntax-322717.test.movie`\"\n",
    "query2=client.query(sql2)"
   ]
  },
  {
   "cell_type": "code",
   "execution_count": 7,
   "id": "26cdba8d",
   "metadata": {},
   "outputs": [
    {
     "data": {
      "text/plain": [
       "[SchemaField('id', 'INTEGER', 'NULLABLE', None, (), None),\n",
       " SchemaField('title', 'STRING', 'NULLABLE', None, (), None),\n",
       " SchemaField('year', 'INTEGER', 'NULLABLE', None, (), None)]"
      ]
     },
     "execution_count": 7,
     "metadata": {},
     "output_type": "execute_result"
    }
   ],
   "source": [
    "table2=query2.result()\n",
    "schema=table2.schema\n",
    "schema"
   ]
  },
  {
   "cell_type": "code",
   "execution_count": 8,
   "id": "6a4fa85e",
   "metadata": {},
   "outputs": [
    {
     "data": {
      "text/plain": [
       "166"
      ]
     },
     "execution_count": 8,
     "metadata": {},
     "output_type": "execute_result"
    }
   ],
   "source": [
    "table2.total_rows"
   ]
  },
  {
   "cell_type": "code",
   "execution_count": 9,
   "id": "ba124d81",
   "metadata": {},
   "outputs": [
    {
     "data": {
      "text/html": [
       "<div>\n",
       "<style scoped>\n",
       "    .dataframe tbody tr th:only-of-type {\n",
       "        vertical-align: middle;\n",
       "    }\n",
       "\n",
       "    .dataframe tbody tr th {\n",
       "        vertical-align: top;\n",
       "    }\n",
       "\n",
       "    .dataframe thead th {\n",
       "        text-align: right;\n",
       "    }\n",
       "</style>\n",
       "<table border=\"1\" class=\"dataframe\">\n",
       "  <thead>\n",
       "    <tr style=\"text-align: right;\">\n",
       "      <th></th>\n",
       "      <th>id</th>\n",
       "      <th>title</th>\n",
       "      <th>year</th>\n",
       "    </tr>\n",
       "  </thead>\n",
       "  <tbody>\n",
       "    <tr>\n",
       "      <th>0</th>\n",
       "      <td>1200</td>\n",
       "      <td>Dune</td>\n",
       "      <td>2021</td>\n",
       "    </tr>\n",
       "    <tr>\n",
       "      <th>1</th>\n",
       "      <td>1201</td>\n",
       "      <td>Moon Fall</td>\n",
       "      <td>2022</td>\n",
       "    </tr>\n",
       "    <tr>\n",
       "      <th>2</th>\n",
       "      <td>1203</td>\n",
       "      <td>Ironman 1</td>\n",
       "      <td>2008</td>\n",
       "    </tr>\n",
       "    <tr>\n",
       "      <th>3</th>\n",
       "      <td>1204</td>\n",
       "      <td>Ironman 2</td>\n",
       "      <td>2010</td>\n",
       "    </tr>\n",
       "    <tr>\n",
       "      <th>4</th>\n",
       "      <td>1205</td>\n",
       "      <td>Ironman 3</td>\n",
       "      <td>2013</td>\n",
       "    </tr>\n",
       "  </tbody>\n",
       "</table>\n",
       "</div>"
      ],
      "text/plain": [
       "     id      title  year\n",
       "0  1200       Dune  2021\n",
       "1  1201  Moon Fall  2022\n",
       "2  1203  Ironman 1  2008\n",
       "3  1204  Ironman 2  2010\n",
       "4  1205  Ironman 3  2013"
      ]
     },
     "execution_count": 9,
     "metadata": {},
     "output_type": "execute_result"
    }
   ],
   "source": [
    "df=query2.result().to_dataframe()\n",
    "df.head()"
   ]
  },
  {
   "cell_type": "markdown",
   "id": "98b5ea26",
   "metadata": {},
   "source": [
    "# Write"
   ]
  },
  {
   "cell_type": "code",
   "execution_count": 10,
   "id": "f155e0a4",
   "metadata": {},
   "outputs": [
    {
     "data": {
      "text/plain": [
       "[]"
      ]
     },
     "execution_count": 10,
     "metadata": {},
     "output_type": "execute_result"
    }
   ],
   "source": [
    "movie_list=[{u\"id\":1200,u\"title\":\"Dune\",u\"year\":2021},\n",
    "           {u\"id\":1201,u\"title\":\"Moon Fall\",u\"year\":2022}]\n",
    "client.insert_rows_json(table=\"voltaic-syntax-322717.test.movie\",json_rows=movie_list)"
   ]
  },
  {
   "cell_type": "code",
   "execution_count": 11,
   "id": "fdee0529",
   "metadata": {},
   "outputs": [
    {
     "data": {
      "text/html": [
       "<div>\n",
       "<style scoped>\n",
       "    .dataframe tbody tr th:only-of-type {\n",
       "        vertical-align: middle;\n",
       "    }\n",
       "\n",
       "    .dataframe tbody tr th {\n",
       "        vertical-align: top;\n",
       "    }\n",
       "\n",
       "    .dataframe thead th {\n",
       "        text-align: right;\n",
       "    }\n",
       "</style>\n",
       "<table border=\"1\" class=\"dataframe\">\n",
       "  <thead>\n",
       "    <tr style=\"text-align: right;\">\n",
       "      <th></th>\n",
       "      <th>id</th>\n",
       "      <th>title</th>\n",
       "      <th>year</th>\n",
       "    </tr>\n",
       "  </thead>\n",
       "  <tbody>\n",
       "    <tr>\n",
       "      <th>0</th>\n",
       "      <td>1203</td>\n",
       "      <td>Ironman 1</td>\n",
       "      <td>2008</td>\n",
       "    </tr>\n",
       "    <tr>\n",
       "      <th>1</th>\n",
       "      <td>1204</td>\n",
       "      <td>Ironman 2</td>\n",
       "      <td>2010</td>\n",
       "    </tr>\n",
       "    <tr>\n",
       "      <th>2</th>\n",
       "      <td>1205</td>\n",
       "      <td>Ironman 3</td>\n",
       "      <td>2013</td>\n",
       "    </tr>\n",
       "  </tbody>\n",
       "</table>\n",
       "</div>"
      ],
      "text/plain": [
       "     id      title  year\n",
       "0  1203  Ironman 1  2008\n",
       "1  1204  Ironman 2  2010\n",
       "2  1205  Ironman 3  2013"
      ]
     },
     "execution_count": 11,
     "metadata": {},
     "output_type": "execute_result"
    }
   ],
   "source": [
    "movie_df=pd.read_csv(\"movie.csv\")\n",
    "movie_df.head()"
   ]
  },
  {
   "cell_type": "code",
   "execution_count": 12,
   "id": "9547f87c",
   "metadata": {},
   "outputs": [
    {
     "data": {
      "text/plain": [
       "[[]]"
      ]
     },
     "execution_count": 12,
     "metadata": {},
     "output_type": "execute_result"
    }
   ],
   "source": [
    "client.insert_rows_from_dataframe(table=\"voltaic-syntax-322717.test.movie\"\n",
    "                                  ,dataframe=movie_df,selected_fields=schema)"
   ]
  },
  {
   "cell_type": "code",
   "execution_count": null,
   "id": "9f16bc54",
   "metadata": {},
   "outputs": [],
   "source": []
  },
  {
   "cell_type": "code",
   "execution_count": null,
   "id": "a1e8e595",
   "metadata": {},
   "outputs": [],
   "source": []
  },
  {
   "cell_type": "code",
   "execution_count": null,
   "id": "544ca246",
   "metadata": {},
   "outputs": [],
   "source": []
  },
  {
   "cell_type": "code",
   "execution_count": null,
   "id": "d11670dd",
   "metadata": {},
   "outputs": [],
   "source": []
  },
  {
   "cell_type": "code",
   "execution_count": null,
   "id": "563e13ee",
   "metadata": {},
   "outputs": [],
   "source": []
  }
 ],
 "metadata": {
  "kernelspec": {
   "display_name": "Python 3 (ipykernel)",
   "language": "python",
   "name": "python3"
  },
  "language_info": {
   "codemirror_mode": {
    "name": "ipython",
    "version": 3
   },
   "file_extension": ".py",
   "mimetype": "text/x-python",
   "name": "python",
   "nbconvert_exporter": "python",
   "pygments_lexer": "ipython3",
   "version": "3.8.10"
  }
 },
 "nbformat": 4,
 "nbformat_minor": 5
}
