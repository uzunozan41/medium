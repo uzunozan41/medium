{
 "cells": [
  {
   "cell_type": "code",
   "execution_count": 1,
   "id": "37ca87ca",
   "metadata": {},
   "outputs": [],
   "source": [
    "import findspark\n",
    "\n",
    "findspark.init(\"/home/ozan/spark\")\n",
    "\n",
    "from pyspark.sql import SparkSession"
   ]
  },
  {
   "cell_type": "code",
   "execution_count": 3,
   "id": "fe7af394",
   "metadata": {},
   "outputs": [],
   "source": [
    "spark=SparkSession.builder\\\n",
    ".config(\"spark.jars\",\"/home/ozan/mysql-connector-java-8.0.27.jar\")\\\n",
    ".master(\"local[4]\")\\\n",
    ".appName(\"mysql\")\\\n",
    ".getOrCreate()                                                     "
   ]
  },
  {
   "cell_type": "code",
   "execution_count": 4,
   "id": "89c954f5",
   "metadata": {},
   "outputs": [],
   "source": [
    "# builder: spark sesionu kurmamıza sağlıyor.\n",
    "# config: jar dosyasının yerini belirtiyoruz.\n",
    "# master(local[4]) sparkın çalıştığı kümeyi almızı sağlar burada local makinede 4 bölümde çalıştırdığımızı gösteriyor.\n",
    "# appName(\"beginner\") uygulama adı.\n",
    "# getOrCreate() varsa spark nesnesi döndürür yoksa yenisini oluşturur."
   ]
  },
  {
   "cell_type": "code",
   "execution_count": 6,
   "id": "48d98b5f",
   "metadata": {},
   "outputs": [],
   "source": [
    "mysqlDF=spark.read\\\n",
    ".format(\"jdbc\")\\\n",
    ".option(\"driver\",\"com.mysql.jdbc.Driver\")\\\n",
    ".option(\"url\",\"jdbc:mysql://127.0.0.1:3306/bike\")\\\n",
    ".option(\"dbtable\",\"stations\")\\\n",
    ".option(\"user\",\"root\")\\\n",
    ".option(\"password\",\"1\")\\\n",
    ".load()                                           "
   ]
  },
  {
   "cell_type": "code",
   "execution_count": 7,
   "id": "f4b447af",
   "metadata": {},
   "outputs": [],
   "source": [
    "#format: Veri formatı klasik veri tabanı olduğu için jdbc olarak giriyoruz.\n",
    "#option: Gerekli parametreleri giriyoruz.\n",
    "#driver: Bu parametre ile gerekli url'ye bağlanmak için jdbc sürücüsünün adı.\n",
    "#url: Bu parametre ile veri tabanı url'sine bağlanıyoruz.\n",
    "#dbtable : Tablonun adı.\n",
    "#user : Kullanıcı adı.\n",
    "#password : kullanıcı şifresi."
   ]
  },
  {
   "cell_type": "code",
   "execution_count": 8,
   "id": "3103f2b1",
   "metadata": {},
   "outputs": [
    {
     "name": "stdout",
     "output_type": "stream",
     "text": [
      "root\n",
      " |-- station_id: string (nullable = true)\n",
      " |-- capacity: integer (nullable = true)\n",
      " |-- hometown_id: string (nullable = true)\n",
      "\n"
     ]
    }
   ],
   "source": [
    "mysqlDF.printSchema()"
   ]
  },
  {
   "cell_type": "code",
   "execution_count": 10,
   "id": "d65641ca",
   "metadata": {},
   "outputs": [
    {
     "name": "stdout",
     "output_type": "stream",
     "text": [
      "+----------+--------+-----------+\n",
      "|station_id|capacity|hometown_id|\n",
      "+----------+--------+-----------+\n",
      "|      1001|      20|       2001|\n",
      "|      1002|      20|       2001|\n",
      "|      1003|      20|       2001|\n",
      "|      1004|      20|       2002|\n",
      "|      1005|      20|       2002|\n",
      "|      1006|      20|       2003|\n",
      "|      1007|      20|       2001|\n",
      "|      1008|      20|       2002|\n",
      "|      1009|      20|       2003|\n",
      "+----------+--------+-----------+\n",
      "\n",
      "Toplam kayıt sayısı :9\n"
     ]
    }
   ],
   "source": [
    "mysqlDF.show()\n",
    "\n",
    "print(\"Toplam kayıt sayısı :\"+str(mysqlDF.count()))"
   ]
  },
  {
   "cell_type": "code",
   "execution_count": 11,
   "id": "97e6a63d",
   "metadata": {},
   "outputs": [
    {
     "name": "stdout",
     "output_type": "stream",
     "text": [
      "+-----------+-------+------+\n",
      "|hometown_id|   name|  city|\n",
      "+-----------+-------+------+\n",
      "|       2001|Donanma|Gölcük|\n",
      "|       2002| Merkez| izmit|\n",
      "|       2003|Saraylı|Gölcük|\n",
      "+-----------+-------+------+\n",
      "\n"
     ]
    }
   ],
   "source": [
    "from pyspark.sql.types import StructType,StructField,IntegerType,StringType\n",
    "\n",
    "schema=StructType([StructField(\"hometown_id\",StringType()),\n",
    "                   StructField(\"name\",StringType()),\n",
    "                   StructField(\"city\",StringType())    \n",
    "])\n",
    "\n",
    "csvDF=spark\\\n",
    ".read\\\n",
    ".option(\"encoding\",\"ISO-8859-9\")\\\n",
    ".option(\"header\",True)\\\n",
    ".schema(schema)\\\n",
    ".csv(\"hometown.csv\")\n",
    "\n",
    "csvDF.show()"
   ]
  },
  {
   "cell_type": "code",
   "execution_count": 12,
   "id": "dd16eb62",
   "metadata": {},
   "outputs": [
    {
     "name": "stdout",
     "output_type": "stream",
     "text": [
      "+----------+--------+-------+------+\n",
      "|station_id|capacity|   name|  city|\n",
      "+----------+--------+-------+------+\n",
      "|      1001|      20|Donanma|Gölcük|\n",
      "|      1002|      20|Donanma|Gölcük|\n",
      "|      1003|      20|Donanma|Gölcük|\n",
      "|      1004|      20| Merkez| izmit|\n",
      "|      1005|      20| Merkez| izmit|\n",
      "|      1006|      20|Saraylı|Gölcük|\n",
      "|      1007|      20|Donanma|Gölcük|\n",
      "|      1008|      20| Merkez| izmit|\n",
      "|      1009|      20|Saraylı|Gölcük|\n",
      "+----------+--------+-------+------+\n",
      "\n"
     ]
    }
   ],
   "source": [
    "newDF=mysqlDF.join(csvDF,csvDF.hometown_id==mysqlDF.hometown_id)\n",
    "newDF.select(newDF.station_id,newDF.capacity,newDF.name,newDF.city).show()"
   ]
  },
  {
   "cell_type": "code",
   "execution_count": null,
   "id": "2037822c",
   "metadata": {},
   "outputs": [],
   "source": []
  },
  {
   "cell_type": "code",
   "execution_count": null,
   "id": "eb6d63ca",
   "metadata": {},
   "outputs": [],
   "source": []
  }
 ],
 "metadata": {
  "kernelspec": {
   "display_name": "Python 3 (ipykernel)",
   "language": "python",
   "name": "python3"
  },
  "language_info": {
   "codemirror_mode": {
    "name": "ipython",
    "version": 3
   },
   "file_extension": ".py",
   "mimetype": "text/x-python",
   "name": "python",
   "nbconvert_exporter": "python",
   "pygments_lexer": "ipython3",
   "version": "3.8.10"
  }
 },
 "nbformat": 4,
 "nbformat_minor": 5
}
