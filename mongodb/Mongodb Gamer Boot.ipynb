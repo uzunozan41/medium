{
 "cells": [
  {
   "cell_type": "code",
   "execution_count": 1,
   "id": "fe812d2b",
   "metadata": {},
   "outputs": [],
   "source": [
    "from random import randint\n",
    "import pymongo\n",
    "\n",
    "#Burada kendi atlas hesabımı gizlemek için url'i başka bir dosyadan çektim.\n",
    "#Sizde atlas_url değişkeni yerine kendi atlas hesabınızın url'inizi veya başka bir mongodb url'sini kullana bilirsiniz.\n",
    "from mongodb_acount import atlas_url"
   ]
  },
  {
   "cell_type": "code",
   "execution_count": 2,
   "id": "7889d2bc",
   "metadata": {},
   "outputs": [],
   "source": [
    "title=[\"dark\",\"strong\",\"fearless\",\"cool\",\"bad\",\"good\",\"killer\"]\n",
    "name=[\"lord\",\"king\",\"queen\",\"soldier\",\"knight\",\"lady\",\"boy\",\"sir\",\"general\",\"captain\"]\n",
    "items=[\"sword\",\"bow\",\"staff\",\"crossbow\"]"
   ]
  },
  {
   "cell_type": "code",
   "execution_count": 3,
   "id": "20499599",
   "metadata": {},
   "outputs": [],
   "source": [
    "def random_insert():\n",
    "    gamer={\"level\":1,\"score\":1}\n",
    "    gamer[\"nickname\"]=title[randint(0,6)]+name[randint(0,9)]+str(randint(10,99))\n",
    "    item=[]\n",
    "    item.append(items[randint(0,3)])\n",
    "    gamer[\"item\"]=item\n",
    "    \n",
    "    print(gamer)\n",
    "    \n",
    "    return gamer\n",
    "    "
   ]
  },
  {
   "cell_type": "code",
   "execution_count": 4,
   "id": "9efa2a22",
   "metadata": {},
   "outputs": [],
   "source": [
    "client=pymongo.MongoClient(atlas_url)\n",
    "database=client[\"41universe\"]\n",
    "collection=database[\"gamers\"]"
   ]
  },
  {
   "cell_type": "code",
   "execution_count": 5,
   "id": "deb873b0",
   "metadata": {},
   "outputs": [
    {
     "name": "stdout",
     "output_type": "stream",
     "text": [
      "{'level': 1, 'score': 1, 'nickname': 'darkgeneral71', 'item': ['bow']}\n"
     ]
    },
    {
     "data": {
      "text/plain": [
       "<pymongo.results.InsertOneResult at 0x7ffaf6f5cca0>"
      ]
     },
     "execution_count": 5,
     "metadata": {},
     "output_type": "execute_result"
    }
   ],
   "source": [
    "collection.insert_one(random_insert())"
   ]
  },
  {
   "cell_type": "code",
   "execution_count": null,
   "id": "ab5ef967",
   "metadata": {},
   "outputs": [],
   "source": []
  },
  {
   "cell_type": "code",
   "execution_count": null,
   "id": "5133736c",
   "metadata": {},
   "outputs": [],
   "source": []
  },
  {
   "cell_type": "code",
   "execution_count": null,
   "id": "4b21a991",
   "metadata": {},
   "outputs": [],
   "source": []
  },
  {
   "cell_type": "code",
   "execution_count": null,
   "id": "000eb325",
   "metadata": {},
   "outputs": [],
   "source": []
  }
 ],
 "metadata": {
  "kernelspec": {
   "display_name": "Python 3 (ipykernel)",
   "language": "python",
   "name": "python3"
  },
  "language_info": {
   "codemirror_mode": {
    "name": "ipython",
    "version": 3
   },
   "file_extension": ".py",
   "mimetype": "text/x-python",
   "name": "python",
   "nbconvert_exporter": "python",
   "pygments_lexer": "ipython3",
   "version": "3.8.10"
  }
 },
 "nbformat": 4,
 "nbformat_minor": 5
}
