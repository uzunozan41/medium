{
 "cells": [
  {
   "cell_type": "code",
   "execution_count": 1,
   "id": "9a5c2265",
   "metadata": {},
   "outputs": [],
   "source": [
    "import findspark\n",
    "\n",
    "findspark.init(\"/home/ozan/spark\")\n",
    "\n",
    "import os\n",
    "os.environ[\"PYSPARK_SUBMIT_ARGS\"]= '--packages org.apache.spark:spark-sql-kafka-0-10_2.12:3.2.0 pyspark-shell'\n",
    "\n",
    "from pyspark.sql import SparkSession\n"
   ]
  },
  {
   "cell_type": "code",
   "execution_count": 3,
   "id": "eb5bf412",
   "metadata": {},
   "outputs": [],
   "source": [
    "spark=SparkSession.builder\\\n",
    ".config(\"spark.jars\",\"/home/ozan/mysql-connector-java-8.0.27.jar\")\\\n",
    ".master(\"local[4]\")\\\n",
    ".appName(\"mysql\")\\\n",
    ".getOrCreate()  "
   ]
  },
  {
   "cell_type": "code",
   "execution_count": 5,
   "id": "903f5d58",
   "metadata": {},
   "outputs": [],
   "source": [
    "#mysql dataframe\n",
    "mysqlDF=spark.read\\\n",
    ".format(\"jdbc\")\\\n",
    ".option(\"driver\",\"com.mysql.jdbc.Driver\")\\\n",
    ".option(\"url\",\"jdbc:mysql://127.0.0.1:3306/city\")\\\n",
    ".option(\"dbtable\",\"roads\")\\\n",
    ".option(\"user\",\"root\")\\\n",
    ".option(\"password\",\"1\")\\\n",
    ".load()"
   ]
  },
  {
   "cell_type": "code",
   "execution_count": 6,
   "id": "64281f5f",
   "metadata": {},
   "outputs": [
    {
     "name": "stdout",
     "output_type": "stream",
     "text": [
      "root\n",
      " |-- id: string (nullable = true)\n",
      " |-- name: string (nullable = true)\n",
      " |-- capacity: integer (nullable = true)\n",
      "\n",
      "+----+-----------------+--------+\n",
      "|id  |name             |capacity|\n",
      "+----+-----------------+--------+\n",
      "|1001|34319. Sokak     |188     |\n",
      "|1002|Dıbıl Sokak      |97      |\n",
      "|1003|Sarayardı Caddesi|315     |\n",
      "|1004|17091. Sokak     |158     |\n",
      "|1005|25-1. Sokak      |188     |\n",
      "+----+-----------------+--------+\n",
      "only showing top 5 rows\n",
      "\n"
     ]
    },
    {
     "name": "stderr",
     "output_type": "stream",
     "text": [
      "\r",
      "[Stage 0:>                                                          (0 + 1) / 1]\r",
      "\r",
      "                                                                                \r"
     ]
    }
   ],
   "source": [
    "mysqlDF.printSchema()\n",
    "\n",
    "mysqlDF.show(truncate=False,n=5)"
   ]
  },
  {
   "cell_type": "code",
   "execution_count": 7,
   "id": "2ed5bd8f",
   "metadata": {},
   "outputs": [],
   "source": [
    "kafkaDF=spark.readStream\\\n",
    ".format(\"kafka\")\\\n",
    ".option(\"kafka.bootstrap.servers\",\"localhost:9092\")\\\n",
    ".option(\"subscribe\",\"road-sensor\")\\\n",
    ".load()"
   ]
  },
  {
   "cell_type": "code",
   "execution_count": 8,
   "id": "a57bc206",
   "metadata": {},
   "outputs": [],
   "source": [
    "from pyspark.sql.functions import from_json,when,sum,round\n",
    "from pyspark.sql.types import StructType,StructField,StringType,IntegerType"
   ]
  },
  {
   "cell_type": "code",
   "execution_count": 9,
   "id": "099589f3",
   "metadata": {},
   "outputs": [],
   "source": [
    "kafkaDF1=kafkaDF.selectExpr(\"CAST (value AS STRING)\")\n",
    "\n",
    "schema=StructType([StructField(\"id\",StringType()),\n",
    "                   StructField(\"cars\",IntegerType())  \n",
    "])\n",
    "\n",
    "kafkaDF2=kafkaDF1.withColumn(\"value\",from_json(\"value\",schema))\n",
    "\n",
    "#ouPut=kafkaDF2.writeStream.format(\"console\").outputMode(\"append\").start()"
   ]
  },
  {
   "cell_type": "code",
   "execution_count": 10,
   "id": "b8abd5fb",
   "metadata": {
    "scrolled": true
   },
   "outputs": [],
   "source": [
    "kafkaDF3=kafkaDF2.groupBy(\"value.id\").agg(sum(\"value.cars\").alias(\"total_cars\"))\n",
    "\n",
    "#ouPut=kafkaDF3.writeStream.format(\"console\").outputMode(\"complete\").start()"
   ]
  },
  {
   "cell_type": "code",
   "execution_count": 11,
   "id": "c81a9dec",
   "metadata": {},
   "outputs": [],
   "source": [
    "joinDF=mysqlDF.join(kafkaDF3,kafkaDF3.id==mysqlDF.id)\n",
    "\n",
    "#ouPut=joinDF.writeStream.format(\"console\").outputMode(\"complete\").start()"
   ]
  },
  {
   "cell_type": "code",
   "execution_count": 12,
   "id": "d5e3f9db",
   "metadata": {
    "scrolled": true
   },
   "outputs": [],
   "source": [
    "joinDF1=joinDF.withColumn(\"rate\",(round(joinDF.total_cars/joinDF.capacity,2)))\n",
    "\n",
    "#ouPut=joinDF1.writeStream.format(\"console\").outputMode(\"complete\").start()"
   ]
  },
  {
   "cell_type": "code",
   "execution_count": 14,
   "id": "8494bb6f",
   "metadata": {},
   "outputs": [],
   "source": [
    "joinDF2=joinDF1.withColumn(\"road_condition\",when(joinDF1.rate<0.25,\"Yoğun Değil\")\\\n",
    "                          .when((joinDF1.rate>=0.25)&(joinDF1.rate<0.50),\"Az Yoğun\")\\\n",
    "                          .when((joinDF1.rate>=0.50)&(joinDF1.rate<0.75),\"Yoğun\")\\\n",
    "                          .otherwise(\"Çok Yoğun\"))\n",
    "\n",
    "#ouPut=joinDF2.writeStream.format(\"console\").outputMode(\"complete\").start()"
   ]
  },
  {
   "cell_type": "code",
   "execution_count": 16,
   "id": "15c2b78e",
   "metadata": {},
   "outputs": [
    {
     "name": "stderr",
     "output_type": "stream",
     "text": [
      "22/02/24 00:18:54 WARN ResolveWriteToStream: Temporary checkpoint location created which is deleted normally when the query didn't fail: /tmp/temporary-48f4c712-9852-4e7c-8ec8-972a3c670ea5. If it's required to delete it under any circumstances, please set spark.sql.streaming.forceDeleteTempCheckpointLocation to true. Important to know deleting temp checkpoint folder is best effort.\n",
      "22/02/24 00:18:54 WARN ResolveWriteToStream: spark.sql.adaptive.enabled is not supported in streaming DataFrames/Datasets and will be disabled.\n",
      "                                                                                \r"
     ]
    },
    {
     "name": "stdout",
     "output_type": "stream",
     "text": [
      "-------------------------------------------\n",
      "Batch: 0\n",
      "-------------------------------------------\n",
      "+----+----+--------------+\n",
      "|rate|name|road_condition|\n",
      "+----+----+--------------+\n",
      "+----+----+--------------+\n",
      "\n"
     ]
    },
    {
     "name": "stderr",
     "output_type": "stream",
     "text": [
      "                                                                                \r"
     ]
    },
    {
     "name": "stdout",
     "output_type": "stream",
     "text": [
      "-------------------------------------------\n",
      "Batch: 1\n",
      "-------------------------------------------\n",
      "+----+------------+--------------+\n",
      "|rate|        name|road_condition|\n",
      "+----+------------+--------------+\n",
      "|0.02|1330/1 Sokak|   Yoğun Değil|\n",
      "+----+------------+--------------+\n",
      "\n"
     ]
    },
    {
     "name": "stderr",
     "output_type": "stream",
     "text": [
      "                                                                                \r"
     ]
    },
    {
     "name": "stdout",
     "output_type": "stream",
     "text": [
      "-------------------------------------------\n",
      "Batch: 2\n",
      "-------------------------------------------\n",
      "+----+-----------------+--------------+\n",
      "|rate|             name|road_condition|\n",
      "+----+-----------------+--------------+\n",
      "|0.02|     1330/1 Sokak|   Yoğun Değil|\n",
      "|0.03|      25-1. Sokak|   Yoğun Değil|\n",
      "|0.01|Sarayardı Caddesi|   Yoğun Değil|\n",
      "|0.07|      Dıbıl Sokak|   Yoğun Değil|\n",
      "+----+-----------------+--------------+\n",
      "\n"
     ]
    },
    {
     "name": "stderr",
     "output_type": "stream",
     "text": [
      "                                                                                \r"
     ]
    },
    {
     "name": "stdout",
     "output_type": "stream",
     "text": [
      "-------------------------------------------\n",
      "Batch: 3\n",
      "-------------------------------------------\n",
      "+----+-----------------+--------------+\n",
      "|rate|             name|road_condition|\n",
      "+----+-----------------+--------------+\n",
      "|0.02|     1330/1 Sokak|   Yoğun Değil|\n",
      "|0.03|      25-1. Sokak|   Yoğun Değil|\n",
      "|0.03|Sarayardı Caddesi|   Yoğun Değil|\n",
      "|0.07|      Dıbıl Sokak|   Yoğun Değil|\n",
      "|0.02|     34319. Sokak|   Yoğun Değil|\n",
      "+----+-----------------+--------------+\n",
      "\n"
     ]
    },
    {
     "name": "stderr",
     "output_type": "stream",
     "text": [
      "                                                                                \r"
     ]
    },
    {
     "name": "stdout",
     "output_type": "stream",
     "text": [
      "-------------------------------------------\n",
      "Batch: 4\n",
      "-------------------------------------------\n",
      "+----+-----------------+--------------+\n",
      "|rate|             name|road_condition|\n",
      "+----+-----------------+--------------+\n",
      "|0.02|     1330/1 Sokak|   Yoğun Değil|\n",
      "|0.07|      25-1. Sokak|   Yoğun Değil|\n",
      "|0.03|Sarayardı Caddesi|   Yoğun Değil|\n",
      "|0.24|      Dıbıl Sokak|   Yoğun Değil|\n",
      "|0.06|     34319. Sokak|   Yoğun Değil|\n",
      "+----+-----------------+--------------+\n",
      "\n"
     ]
    },
    {
     "name": "stderr",
     "output_type": "stream",
     "text": [
      "                                                                                \r"
     ]
    },
    {
     "name": "stdout",
     "output_type": "stream",
     "text": [
      "-------------------------------------------\n",
      "Batch: 5\n",
      "-------------------------------------------\n",
      "+-----+-----------------+--------------+\n",
      "| rate|             name|road_condition|\n",
      "+-----+-----------------+--------------+\n",
      "|-0.04|     17091. Sokak|   Yoğun Değil|\n",
      "|-0.11|     1330/1 Sokak|   Yoğun Değil|\n",
      "| 0.07|      25-1. Sokak|   Yoğun Değil|\n",
      "| 0.05|Sarayardı Caddesi|   Yoğun Değil|\n",
      "| 0.41|      Dıbıl Sokak|      Az Yoğun|\n",
      "| 0.06|     34319. Sokak|   Yoğun Değil|\n",
      "+-----+-----------------+--------------+\n",
      "\n"
     ]
    },
    {
     "name": "stderr",
     "output_type": "stream",
     "text": [
      "                                                                                \r"
     ]
    },
    {
     "name": "stdout",
     "output_type": "stream",
     "text": [
      "-------------------------------------------\n",
      "Batch: 6\n",
      "-------------------------------------------\n",
      "+-----+-----------------+--------------+\n",
      "| rate|             name|road_condition|\n",
      "+-----+-----------------+--------------+\n",
      "|-0.04|     17091. Sokak|   Yoğun Değil|\n",
      "|-0.11|     1330/1 Sokak|   Yoğun Değil|\n",
      "| 0.06|      25-1. Sokak|   Yoğun Değil|\n",
      "| 0.06|Sarayardı Caddesi|   Yoğun Değil|\n",
      "| 0.41|      Dıbıl Sokak|      Az Yoğun|\n",
      "| 0.09|     34319. Sokak|   Yoğun Değil|\n",
      "+-----+-----------------+--------------+\n",
      "\n"
     ]
    },
    {
     "name": "stderr",
     "output_type": "stream",
     "text": [
      "                                                                                \r"
     ]
    },
    {
     "name": "stdout",
     "output_type": "stream",
     "text": [
      "-------------------------------------------\n",
      "Batch: 7\n",
      "-------------------------------------------\n",
      "+-----+-----------------+--------------+\n",
      "| rate|             name|road_condition|\n",
      "+-----+-----------------+--------------+\n",
      "|-0.09|     17091. Sokak|   Yoğun Değil|\n",
      "|-0.11|     1330/1 Sokak|   Yoğun Değil|\n",
      "| 0.06|      25-1. Sokak|   Yoğun Değil|\n",
      "| 0.06|Sarayardı Caddesi|   Yoğun Değil|\n",
      "| 0.41|      Dıbıl Sokak|      Az Yoğun|\n",
      "| 0.15|     34319. Sokak|   Yoğun Değil|\n",
      "+-----+-----------------+--------------+\n",
      "\n"
     ]
    },
    {
     "name": "stderr",
     "output_type": "stream",
     "text": [
      "                                                                                \r"
     ]
    },
    {
     "name": "stdout",
     "output_type": "stream",
     "text": [
      "-------------------------------------------\n",
      "Batch: 8\n",
      "-------------------------------------------\n",
      "+-----+-----------------+--------------+\n",
      "| rate|             name|road_condition|\n",
      "+-----+-----------------+--------------+\n",
      "|-0.09|     17091. Sokak|   Yoğun Değil|\n",
      "| 0.15|     1330/1 Sokak|   Yoğun Değil|\n",
      "| 0.02|      25-1. Sokak|   Yoğun Değil|\n",
      "| 0.06|Sarayardı Caddesi|   Yoğun Değil|\n",
      "| 0.45|      Dıbıl Sokak|      Az Yoğun|\n",
      "| 0.15|     34319. Sokak|   Yoğun Değil|\n",
      "+-----+-----------------+--------------+\n",
      "\n"
     ]
    },
    {
     "name": "stderr",
     "output_type": "stream",
     "text": [
      "                                                                                \r"
     ]
    },
    {
     "name": "stdout",
     "output_type": "stream",
     "text": [
      "-------------------------------------------\n",
      "Batch: 9\n",
      "-------------------------------------------\n",
      "+-----+-----------------+--------------+\n",
      "| rate|             name|road_condition|\n",
      "+-----+-----------------+--------------+\n",
      "|-0.09|     17091. Sokak|   Yoğun Değil|\n",
      "| 0.15|     1330/1 Sokak|   Yoğun Değil|\n",
      "| 0.02|      25-1. Sokak|   Yoğun Değil|\n",
      "| 0.03|Sarayardı Caddesi|   Yoğun Değil|\n",
      "| 0.45|      Dıbıl Sokak|      Az Yoğun|\n",
      "| 0.11|     34319. Sokak|   Yoğun Değil|\n",
      "+-----+-----------------+--------------+\n",
      "\n"
     ]
    },
    {
     "name": "stderr",
     "output_type": "stream",
     "text": [
      "                                                                                \r"
     ]
    },
    {
     "name": "stdout",
     "output_type": "stream",
     "text": [
      "-------------------------------------------\n",
      "Batch: 10\n",
      "-------------------------------------------\n",
      "+-----+-----------------+--------------+\n",
      "| rate|             name|road_condition|\n",
      "+-----+-----------------+--------------+\n",
      "|-0.09|     17091. Sokak|   Yoğun Değil|\n",
      "| 0.16|     1330/1 Sokak|   Yoğun Değil|\n",
      "| 0.02|      25-1. Sokak|   Yoğun Değil|\n",
      "| 0.03|Sarayardı Caddesi|   Yoğun Değil|\n",
      "| 0.45|      Dıbıl Sokak|      Az Yoğun|\n",
      "| 0.11|     34319. Sokak|   Yoğun Değil|\n",
      "+-----+-----------------+--------------+\n",
      "\n"
     ]
    },
    {
     "name": "stderr",
     "output_type": "stream",
     "text": [
      "                                                                                \r"
     ]
    },
    {
     "name": "stdout",
     "output_type": "stream",
     "text": [
      "-------------------------------------------\n",
      "Batch: 11\n",
      "-------------------------------------------\n",
      "+-----+-----------------+--------------+\n",
      "| rate|             name|road_condition|\n",
      "+-----+-----------------+--------------+\n",
      "|-0.02|     17091. Sokak|   Yoğun Değil|\n",
      "| 0.16|     1330/1 Sokak|   Yoğun Değil|\n",
      "| 0.06|      25-1. Sokak|   Yoğun Değil|\n",
      "| 0.03|Sarayardı Caddesi|   Yoğun Değil|\n",
      "|  0.4|      Dıbıl Sokak|      Az Yoğun|\n",
      "| 0.11|     34319. Sokak|   Yoğun Değil|\n",
      "+-----+-----------------+--------------+\n",
      "\n"
     ]
    },
    {
     "name": "stderr",
     "output_type": "stream",
     "text": [
      "                                                                                \r"
     ]
    },
    {
     "name": "stdout",
     "output_type": "stream",
     "text": [
      "-------------------------------------------\n",
      "Batch: 12\n",
      "-------------------------------------------\n",
      "+-----+-----------------+--------------+\n",
      "| rate|             name|road_condition|\n",
      "+-----+-----------------+--------------+\n",
      "|-0.02|     17091. Sokak|   Yoğun Değil|\n",
      "| 0.16|     1330/1 Sokak|   Yoğun Değil|\n",
      "| 0.06|      25-1. Sokak|   Yoğun Değil|\n",
      "| 0.03|Sarayardı Caddesi|   Yoğun Değil|\n",
      "| 0.64|      Dıbıl Sokak|         Yoğun|\n",
      "| 0.06|     34319. Sokak|   Yoğun Değil|\n",
      "+-----+-----------------+--------------+\n",
      "\n"
     ]
    },
    {
     "name": "stderr",
     "output_type": "stream",
     "text": [
      "                                                                                \r"
     ]
    },
    {
     "name": "stdout",
     "output_type": "stream",
     "text": [
      "-------------------------------------------\n",
      "Batch: 13\n",
      "-------------------------------------------\n",
      "+-----+-----------------+--------------+\n",
      "| rate|             name|road_condition|\n",
      "+-----+-----------------+--------------+\n",
      "|-0.02|     17091. Sokak|   Yoğun Değil|\n",
      "| 0.16|     1330/1 Sokak|   Yoğun Değil|\n",
      "| 0.06|      25-1. Sokak|   Yoğun Değil|\n",
      "| 0.03|Sarayardı Caddesi|   Yoğun Değil|\n",
      "| 0.74|      Dıbıl Sokak|         Yoğun|\n",
      "| 0.06|     34319. Sokak|   Yoğun Değil|\n",
      "+-----+-----------------+--------------+\n",
      "\n"
     ]
    },
    {
     "name": "stderr",
     "output_type": "stream",
     "text": [
      "                                                                                \r"
     ]
    },
    {
     "name": "stdout",
     "output_type": "stream",
     "text": [
      "-------------------------------------------\n",
      "Batch: 14\n",
      "-------------------------------------------\n",
      "+-----+-----------------+--------------+\n",
      "| rate|             name|road_condition|\n",
      "+-----+-----------------+--------------+\n",
      "|-0.02|     17091. Sokak|   Yoğun Değil|\n",
      "|  0.2|     1330/1 Sokak|   Yoğun Değil|\n",
      "| 0.06|      25-1. Sokak|   Yoğun Değil|\n",
      "| 0.05|Sarayardı Caddesi|   Yoğun Değil|\n",
      "| 0.74|      Dıbıl Sokak|         Yoğun|\n",
      "| 0.06|     34319. Sokak|   Yoğun Değil|\n",
      "+-----+-----------------+--------------+\n",
      "\n"
     ]
    },
    {
     "name": "stderr",
     "output_type": "stream",
     "text": [
      "                                                                                \r"
     ]
    },
    {
     "name": "stdout",
     "output_type": "stream",
     "text": [
      "-------------------------------------------\n",
      "Batch: 15\n",
      "-------------------------------------------\n",
      "+----+-----------------+--------------+\n",
      "|rate|             name|road_condition|\n",
      "+----+-----------------+--------------+\n",
      "|0.01|     17091. Sokak|   Yoğun Değil|\n",
      "|0.36|     1330/1 Sokak|      Az Yoğun|\n",
      "|0.06|      25-1. Sokak|   Yoğun Değil|\n",
      "|0.05|Sarayardı Caddesi|   Yoğun Değil|\n",
      "|0.81|      Dıbıl Sokak|     Çok Yoğun|\n",
      "|0.06|     34319. Sokak|   Yoğun Değil|\n",
      "+----+-----------------+--------------+\n",
      "\n"
     ]
    },
    {
     "name": "stderr",
     "output_type": "stream",
     "text": [
      "                                                                                \r"
     ]
    },
    {
     "name": "stdout",
     "output_type": "stream",
     "text": [
      "-------------------------------------------\n",
      "Batch: 16\n",
      "-------------------------------------------\n",
      "+-----+-----------------+--------------+\n",
      "| rate|             name|road_condition|\n",
      "+-----+-----------------+--------------+\n",
      "|-0.01|     17091. Sokak|   Yoğun Değil|\n",
      "| 0.67|     1330/1 Sokak|         Yoğun|\n",
      "| 0.06|      25-1. Sokak|   Yoğun Değil|\n",
      "| 0.05|Sarayardı Caddesi|   Yoğun Değil|\n",
      "| 0.81|      Dıbıl Sokak|     Çok Yoğun|\n",
      "| 0.05|     34319. Sokak|   Yoğun Değil|\n",
      "+-----+-----------------+--------------+\n",
      "\n"
     ]
    },
    {
     "name": "stderr",
     "output_type": "stream",
     "text": [
      "                                                                                \r"
     ]
    },
    {
     "name": "stdout",
     "output_type": "stream",
     "text": [
      "-------------------------------------------\n",
      "Batch: 17\n",
      "-------------------------------------------\n",
      "+-----+-----------------+--------------+\n",
      "| rate|             name|road_condition|\n",
      "+-----+-----------------+--------------+\n",
      "|-0.01|     17091. Sokak|   Yoğun Değil|\n",
      "| 0.78|     1330/1 Sokak|     Çok Yoğun|\n",
      "|  0.1|      25-1. Sokak|   Yoğun Değil|\n",
      "| 0.05|Sarayardı Caddesi|   Yoğun Değil|\n",
      "| 0.81|      Dıbıl Sokak|     Çok Yoğun|\n",
      "| 0.09|     34319. Sokak|   Yoğun Değil|\n",
      "+-----+-----------------+--------------+\n",
      "\n"
     ]
    },
    {
     "name": "stderr",
     "output_type": "stream",
     "text": [
      "                                                                                \r"
     ]
    },
    {
     "name": "stdout",
     "output_type": "stream",
     "text": [
      "-------------------------------------------\n",
      "Batch: 18\n",
      "-------------------------------------------\n",
      "+----+-----------------+--------------+\n",
      "|rate|             name|road_condition|\n",
      "+----+-----------------+--------------+\n",
      "|0.05|     17091. Sokak|   Yoğun Değil|\n",
      "|0.78|     1330/1 Sokak|     Çok Yoğun|\n",
      "| 0.1|      25-1. Sokak|   Yoğun Değil|\n",
      "|0.05|Sarayardı Caddesi|   Yoğun Değil|\n",
      "|0.82|      Dıbıl Sokak|     Çok Yoğun|\n",
      "| 0.2|     34319. Sokak|   Yoğun Değil|\n",
      "+----+-----------------+--------------+\n",
      "\n"
     ]
    },
    {
     "name": "stderr",
     "output_type": "stream",
     "text": [
      "                                                                                \r"
     ]
    },
    {
     "name": "stdout",
     "output_type": "stream",
     "text": [
      "-------------------------------------------\n",
      "Batch: 19\n",
      "-------------------------------------------\n",
      "+----+-----------------+--------------+\n",
      "|rate|             name|road_condition|\n",
      "+----+-----------------+--------------+\n",
      "|0.12|     17091. Sokak|   Yoğun Değil|\n",
      "|0.78|     1330/1 Sokak|     Çok Yoğun|\n",
      "| 0.1|      25-1. Sokak|   Yoğun Değil|\n",
      "|0.05|Sarayardı Caddesi|   Yoğun Değil|\n",
      "|0.93|      Dıbıl Sokak|     Çok Yoğun|\n",
      "| 0.2|     34319. Sokak|   Yoğun Değil|\n",
      "+----+-----------------+--------------+\n",
      "\n"
     ]
    },
    {
     "name": "stderr",
     "output_type": "stream",
     "text": [
      "                                                                                \r"
     ]
    },
    {
     "name": "stdout",
     "output_type": "stream",
     "text": [
      "-------------------------------------------\n",
      "Batch: 20\n",
      "-------------------------------------------\n",
      "+----+-----------------+--------------+\n",
      "|rate|             name|road_condition|\n",
      "+----+-----------------+--------------+\n",
      "|0.16|     17091. Sokak|   Yoğun Değil|\n",
      "|0.78|     1330/1 Sokak|     Çok Yoğun|\n",
      "|0.11|      25-1. Sokak|   Yoğun Değil|\n",
      "|0.05|Sarayardı Caddesi|   Yoğun Değil|\n",
      "|1.13|      Dıbıl Sokak|     Çok Yoğun|\n",
      "| 0.2|     34319. Sokak|   Yoğun Değil|\n",
      "+----+-----------------+--------------+\n",
      "\n"
     ]
    },
    {
     "name": "stderr",
     "output_type": "stream",
     "text": [
      "                                                                                \r"
     ]
    },
    {
     "name": "stdout",
     "output_type": "stream",
     "text": [
      "-------------------------------------------\n",
      "Batch: 21\n",
      "-------------------------------------------\n",
      "+----+-----------------+--------------+\n",
      "|rate|             name|road_condition|\n",
      "+----+-----------------+--------------+\n",
      "|0.16|     17091. Sokak|   Yoğun Değil|\n",
      "|0.78|     1330/1 Sokak|     Çok Yoğun|\n",
      "|0.11|      25-1. Sokak|   Yoğun Değil|\n",
      "|0.05|Sarayardı Caddesi|   Yoğun Değil|\n",
      "|1.26|      Dıbıl Sokak|     Çok Yoğun|\n",
      "| 0.2|     34319. Sokak|   Yoğun Değil|\n",
      "+----+-----------------+--------------+\n",
      "\n"
     ]
    },
    {
     "name": "stderr",
     "output_type": "stream",
     "text": [
      "                                                                                \r"
     ]
    },
    {
     "name": "stdout",
     "output_type": "stream",
     "text": [
      "-------------------------------------------\n",
      "Batch: 22\n",
      "-------------------------------------------\n",
      "+----+-----------------+--------------+\n",
      "|rate|             name|road_condition|\n",
      "+----+-----------------+--------------+\n",
      "|0.16|     17091. Sokak|   Yoğun Değil|\n",
      "|0.78|     1330/1 Sokak|     Çok Yoğun|\n",
      "|0.11|      25-1. Sokak|   Yoğun Değil|\n",
      "|0.03|Sarayardı Caddesi|   Yoğun Değil|\n",
      "| 1.3|      Dıbıl Sokak|     Çok Yoğun|\n",
      "|0.16|     34319. Sokak|   Yoğun Değil|\n",
      "+----+-----------------+--------------+\n",
      "\n"
     ]
    },
    {
     "name": "stderr",
     "output_type": "stream",
     "text": [
      "                                                                                \r"
     ]
    },
    {
     "name": "stdout",
     "output_type": "stream",
     "text": [
      "-------------------------------------------\n",
      "Batch: 23\n",
      "-------------------------------------------\n",
      "+----+-----------------+--------------+\n",
      "|rate|             name|road_condition|\n",
      "+----+-----------------+--------------+\n",
      "|0.25|     17091. Sokak|      Az Yoğun|\n",
      "|1.44|     1330/1 Sokak|     Çok Yoğun|\n",
      "|0.06|      25-1. Sokak|   Yoğun Değil|\n",
      "|0.03|Sarayardı Caddesi|   Yoğun Değil|\n",
      "| 1.3|      Dıbıl Sokak|     Çok Yoğun|\n",
      "|0.16|     34319. Sokak|   Yoğun Değil|\n",
      "+----+-----------------+--------------+\n",
      "\n"
     ]
    },
    {
     "name": "stderr",
     "output_type": "stream",
     "text": [
      "                                                                                \r"
     ]
    },
    {
     "name": "stdout",
     "output_type": "stream",
     "text": [
      "-------------------------------------------\n",
      "Batch: 24\n",
      "-------------------------------------------\n",
      "+----+-----------------+--------------+\n",
      "|rate|             name|road_condition|\n",
      "+----+-----------------+--------------+\n",
      "|0.25|     17091. Sokak|      Az Yoğun|\n",
      "|1.44|     1330/1 Sokak|     Çok Yoğun|\n",
      "|0.06|      25-1. Sokak|   Yoğun Değil|\n",
      "|0.67|Sarayardı Caddesi|         Yoğun|\n",
      "| 1.3|      Dıbıl Sokak|     Çok Yoğun|\n",
      "|0.16|     34319. Sokak|   Yoğun Değil|\n",
      "+----+-----------------+--------------+\n",
      "\n"
     ]
    },
    {
     "name": "stderr",
     "output_type": "stream",
     "text": [
      "                                                                                \r"
     ]
    },
    {
     "name": "stdout",
     "output_type": "stream",
     "text": [
      "-------------------------------------------\n",
      "Batch: 25\n",
      "-------------------------------------------\n",
      "+----+-----------------+--------------+\n",
      "|rate|             name|road_condition|\n",
      "+----+-----------------+--------------+\n",
      "|0.25|     17091. Sokak|      Az Yoğun|\n",
      "|1.44|     1330/1 Sokak|     Çok Yoğun|\n",
      "|0.06|      25-1. Sokak|   Yoğun Değil|\n",
      "|0.92|Sarayardı Caddesi|     Çok Yoğun|\n",
      "| 1.3|      Dıbıl Sokak|     Çok Yoğun|\n",
      "|0.16|     34319. Sokak|   Yoğun Değil|\n",
      "+----+-----------------+--------------+\n",
      "\n"
     ]
    },
    {
     "name": "stderr",
     "output_type": "stream",
     "text": [
      "                                                                                \r"
     ]
    },
    {
     "name": "stdout",
     "output_type": "stream",
     "text": [
      "-------------------------------------------\n",
      "Batch: 26\n",
      "-------------------------------------------\n",
      "+----+-----------------+--------------+\n",
      "|rate|             name|road_condition|\n",
      "+----+-----------------+--------------+\n",
      "|0.25|     17091. Sokak|      Az Yoğun|\n",
      "|1.44|     1330/1 Sokak|     Çok Yoğun|\n",
      "|0.06|      25-1. Sokak|   Yoğun Değil|\n",
      "|0.92|Sarayardı Caddesi|     Çok Yoğun|\n",
      "|0.47|      Dıbıl Sokak|      Az Yoğun|\n",
      "|0.16|     34319. Sokak|   Yoğun Değil|\n",
      "+----+-----------------+--------------+\n",
      "\n"
     ]
    },
    {
     "name": "stderr",
     "output_type": "stream",
     "text": [
      "                                                                                \r"
     ]
    },
    {
     "name": "stdout",
     "output_type": "stream",
     "text": [
      "-------------------------------------------\n",
      "Batch: 27\n",
      "-------------------------------------------\n",
      "+-----+-----------------+--------------+\n",
      "| rate|             name|road_condition|\n",
      "+-----+-----------------+--------------+\n",
      "| 0.25|     17091. Sokak|      Az Yoğun|\n",
      "|-0.02|     1330/1 Sokak|   Yoğun Değil|\n",
      "| 0.06|      25-1. Sokak|   Yoğun Değil|\n",
      "| 0.92|Sarayardı Caddesi|     Çok Yoğun|\n",
      "| 0.47|      Dıbıl Sokak|      Az Yoğun|\n",
      "| 0.16|     34319. Sokak|   Yoğun Değil|\n",
      "+-----+-----------------+--------------+\n",
      "\n"
     ]
    },
    {
     "name": "stderr",
     "output_type": "stream",
     "text": [
      "                                                                                \r"
     ]
    },
    {
     "name": "stdout",
     "output_type": "stream",
     "text": [
      "-------------------------------------------\n",
      "Batch: 28\n",
      "-------------------------------------------\n",
      "+----+-----------------+--------------+\n",
      "|rate|             name|road_condition|\n",
      "+----+-----------------+--------------+\n",
      "|0.25|     17091. Sokak|      Az Yoğun|\n",
      "|0.35|     1330/1 Sokak|      Az Yoğun|\n",
      "|0.06|      25-1. Sokak|   Yoğun Değil|\n",
      "|0.92|Sarayardı Caddesi|     Çok Yoğun|\n",
      "|0.47|      Dıbıl Sokak|      Az Yoğun|\n",
      "|0.16|     34319. Sokak|   Yoğun Değil|\n",
      "+----+-----------------+--------------+\n",
      "\n"
     ]
    },
    {
     "name": "stderr",
     "output_type": "stream",
     "text": [
      "                                                                                \r"
     ]
    },
    {
     "name": "stdout",
     "output_type": "stream",
     "text": [
      "-------------------------------------------\n",
      "Batch: 29\n",
      "-------------------------------------------\n",
      "+----+-----------------+--------------+\n",
      "|rate|             name|road_condition|\n",
      "+----+-----------------+--------------+\n",
      "|0.25|     17091. Sokak|      Az Yoğun|\n",
      "|0.71|     1330/1 Sokak|         Yoğun|\n",
      "|0.06|      25-1. Sokak|   Yoğun Değil|\n",
      "|0.92|Sarayardı Caddesi|     Çok Yoğun|\n",
      "|0.47|      Dıbıl Sokak|      Az Yoğun|\n",
      "|0.16|     34319. Sokak|   Yoğun Değil|\n",
      "+----+-----------------+--------------+\n",
      "\n"
     ]
    }
   ],
   "source": [
    "panelDF=joinDF2.select(\"rate\",\"name\",\"road_condition\")\n",
    "\n",
    "ouPut=panelDF.writeStream.format(\"console\").outputMode(\"complete\").start()"
   ]
  },
  {
   "cell_type": "code",
   "execution_count": null,
   "id": "69283385",
   "metadata": {},
   "outputs": [],
   "source": []
  },
  {
   "cell_type": "code",
   "execution_count": 17,
   "id": "ce8600b9",
   "metadata": {},
   "outputs": [],
   "source": [
    "ouPut.stop()"
   ]
  },
  {
   "cell_type": "code",
   "execution_count": null,
   "id": "8713d819",
   "metadata": {},
   "outputs": [],
   "source": []
  },
  {
   "cell_type": "code",
   "execution_count": null,
   "id": "282acd19",
   "metadata": {},
   "outputs": [],
   "source": []
  },
  {
   "cell_type": "code",
   "execution_count": null,
   "id": "97b4c664",
   "metadata": {},
   "outputs": [],
   "source": []
  }
 ],
 "metadata": {
  "kernelspec": {
   "display_name": "Python 3 (ipykernel)",
   "language": "python",
   "name": "python3"
  },
  "language_info": {
   "codemirror_mode": {
    "name": "ipython",
    "version": 3
   },
   "file_extension": ".py",
   "mimetype": "text/x-python",
   "name": "python",
   "nbconvert_exporter": "python",
   "pygments_lexer": "ipython3",
   "version": "3.8.10"
  }
 },
 "nbformat": 4,
 "nbformat_minor": 5
}
