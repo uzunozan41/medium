{
 "cells": [
  {
   "cell_type": "code",
   "execution_count": 1,
   "id": "5fe05cfa",
   "metadata": {},
   "outputs": [],
   "source": [
    "from kafka import KafkaProducer,KafkaConsumer\n",
    "import json\n",
    "from random import randint\n",
    "from time import sleep"
   ]
  },
  {
   "cell_type": "code",
   "execution_count": 2,
   "id": "d5af4ed9",
   "metadata": {},
   "outputs": [],
   "source": [
    "produc=KafkaProducer(value_serializer=lambda m: json.dumps(m).encode('utf-8'))"
   ]
  },
  {
   "cell_type": "code",
   "execution_count": 3,
   "id": "0a412747",
   "metadata": {},
   "outputs": [],
   "source": [
    "def road_sensor1(id):\n",
    "    data={}\n",
    "    data[\"id\"]=id\n",
    "    data[\"cars\"]=randint(0,10)\n",
    "    produc.send(\"road-sensor\",data)\n",
    "    \n",
    "def road_sensor2(id):\n",
    "    data={}\n",
    "    data[\"id\"]=id\n",
    "    data[\"cars\"]=randint(-10,20)\n",
    "    produc.send(\"road-sensor\",data)"
   ]
  },
  {
   "cell_type": "code",
   "execution_count": 16,
   "id": "07dd16b1",
   "metadata": {},
   "outputs": [],
   "source": [
    "for i in range(0,10):\n",
    "    new_id=randint(1001,1006)\n",
    "    \n",
    "    road_sensor1(str(new_id))\n",
    "    sleep(1)\n",
    "    \n",
    "for i in range(0,30):\n",
    "    new_id=randint(1001,1006)\n",
    "    \n",
    "    road_sensor2(str(new_id))\n",
    "    sleep(1)"
   ]
  },
  {
   "cell_type": "code",
   "execution_count": 10,
   "id": "0365c06e",
   "metadata": {},
   "outputs": [],
   "source": [
    "def road_sensor3(id,cars):\n",
    "    data={}\n",
    "    data[\"id\"]=id\n",
    "    data[\"cars\"]=cars\n",
    "    produc.send(\"road-sensor\",data)"
   ]
  },
  {
   "cell_type": "code",
   "execution_count": 22,
   "id": "4c9cf632",
   "metadata": {},
   "outputs": [],
   "source": [
    "road_sensor3(\"1006\",20)"
   ]
  },
  {
   "cell_type": "code",
   "execution_count": null,
   "id": "25bfeb80",
   "metadata": {},
   "outputs": [],
   "source": []
  }
 ],
 "metadata": {
  "kernelspec": {
   "display_name": "Python 3 (ipykernel)",
   "language": "python",
   "name": "python3"
  },
  "language_info": {
   "codemirror_mode": {
    "name": "ipython",
    "version": 3
   },
   "file_extension": ".py",
   "mimetype": "text/x-python",
   "name": "python",
   "nbconvert_exporter": "python",
   "pygments_lexer": "ipython3",
   "version": "3.8.10"
  }
 },
 "nbformat": 4,
 "nbformat_minor": 5
}
